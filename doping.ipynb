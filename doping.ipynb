{
 "cells": [
  {
   "cell_type": "code",
   "execution_count": 2,
   "metadata": {},
   "outputs": [],
   "source": [
    "import numpy as np\n",
    "import matplotlib.pyplot as plt\n",
    "import matplotlib\n",
    "#import seaborn as sns\n",
    "import scipy\n",
    "#from tqdm import tqdm \n",
    "from scipy.interpolate import CubicSpline\n",
    "%matplotlib notebook"
   ]
  },
  {
   "cell_type": "code",
   "execution_count": 3,
   "metadata": {},
   "outputs": [],
   "source": [
    "t1 = 1.0\n",
    "t2 = 1.0\n",
    "\n",
    "def Ek(t, kx,ky):\n",
    "    (xx,yy)=np.meshgrid(kx,ky)\n",
    "    E = -2*t*(np.cos(xx) + np.cos(yy))\n",
    "    return E\n",
    "\n",
    "def lamb_intra(Ek, U, Del,mu):\n",
    "    if (mu>=0):\n",
    "        l = -np.sqrt( np.square( Ek ) + np.square(U*Del) )\n",
    "        l =  l[-l>mu]\n",
    "    else:\n",
    "        print('error negative mu')\n",
    "    return l\n",
    "\n",
    "def lamb_inter(Ek, x, Del):\n",
    "    l = np.sqrt( np.square( Ek ) + np.square(x*Del) )    # x = U - J\n",
    "    return l\n",
    "def lamb_CDW(Ek, x, Del):\n",
    "    l = np.sqrt( np.square( Ek ) + np.square(x*Del/2)) # x = (3*U - 5*J)/2\n",
    "    return l\n",
    "def lamb_tot(Ek, x, y, z, Del_m, Del_mm, Del_cdw ):\n",
    "    l = np.sqrt( np.square( Ek ) + np.square(x*Del_m)  + np.square(y*Del_mm)  + np.square(z*Del_cdw/2) )\n",
    "    # x = U\n",
    "    # y = U - 2J\n",
    "    # z = (3*U - 5*J)/2\n",
    "    return l"
   ]
  },
  {
   "cell_type": "code",
   "execution_count": 6,
   "metadata": {},
   "outputs": [],
   "source": [
    "\"\"\" How many k points in the BZ \"\"\"\n",
    "\n",
    "grid_kx = np.linspace(-np.pi, np.pi, 300, endpoint = False)\n",
    "grid_ky = np.linspace(-np.pi, np.pi, 300, endpoint = False)\n",
    "grid_Ek = np.zeros((len(grid_kx), len(grid_ky)))\n",
    "grid_Ek=Ek(t1,grid_kx,grid_ky)\n",
    "#(xx,yy)=np.meshgrid(grid_kx,grid_ky)"
   ]
  },
  {
   "cell_type": "code",
   "execution_count": 7,
   "metadata": {},
   "outputs": [
    {
     "ename": "TypeError",
     "evalue": "lamb_intra() missing 1 required positional argument: 'mu'",
     "output_type": "error",
     "traceback": [
      "\u001b[0;31m---------------------------------------------------------------------------\u001b[0m",
      "\u001b[0;31mTypeError\u001b[0m                                 Traceback (most recent call last)",
      "\u001b[0;32m<ipython-input-7-c72ef656d687>\u001b[0m in \u001b[0;36m<module>\u001b[0;34m\u001b[0m\n\u001b[1;32m     15\u001b[0m             \u001b[0menergy_Del0\u001b[0m \u001b[0;34m=\u001b[0m \u001b[0;36m0.0\u001b[0m\u001b[0;34m\u001b[0m\u001b[0;34m\u001b[0m\u001b[0m\n\u001b[1;32m     16\u001b[0m \u001b[0;34m\u001b[0m\u001b[0m\n\u001b[0;32m---> 17\u001b[0;31m             \u001b[0menergy_Del\u001b[0m \u001b[0;34m=\u001b[0m \u001b[0;34m-\u001b[0m \u001b[0mnp\u001b[0m\u001b[0;34m.\u001b[0m\u001b[0msum\u001b[0m\u001b[0;34m(\u001b[0m \u001b[0mlamb_intra\u001b[0m\u001b[0;34m(\u001b[0m\u001b[0mgrid_Ek\u001b[0m\u001b[0;34m,\u001b[0m \u001b[0mU\u001b[0m\u001b[0;34m,\u001b[0m \u001b[0mDel\u001b[0m\u001b[0;34m)\u001b[0m \u001b[0;34m)\u001b[0m\u001b[0;34m\u001b[0m\u001b[0;34m\u001b[0m\u001b[0m\n\u001b[0m\u001b[1;32m     18\u001b[0m             \u001b[0menergy_Del0\u001b[0m \u001b[0;34m=\u001b[0m \u001b[0;34m-\u001b[0m \u001b[0mnp\u001b[0m\u001b[0;34m.\u001b[0m\u001b[0msum\u001b[0m\u001b[0;34m(\u001b[0m \u001b[0mlamb_intra\u001b[0m\u001b[0;34m(\u001b[0m\u001b[0mgrid_Ek\u001b[0m\u001b[0;34m,\u001b[0m \u001b[0mU\u001b[0m\u001b[0;34m,\u001b[0m \u001b[0;36m0\u001b[0m\u001b[0;34m)\u001b[0m \u001b[0;34m)\u001b[0m\u001b[0;34m\u001b[0m\u001b[0;34m\u001b[0m\u001b[0m\n\u001b[1;32m     19\u001b[0m \u001b[0;34m\u001b[0m\u001b[0m\n",
      "\u001b[0;31mTypeError\u001b[0m: lamb_intra() missing 1 required positional argument: 'mu'"
     ]
    }
   ],
   "source": [
    "U_array = np.r_[ -30 : 2 : 1000j ]\n",
    "mu=0\n",
    "Del_intra_array = np.zeros(len(U_array))\n",
    "Energy_intra_array = np.zeros(len(U_array))\n",
    "guess = 0.5\n",
    "\n",
    "for l in range(len(U_array)):\n",
    "    U = U_array[l]\n",
    "    for m in range(100):\n",
    "        Del = 0.0\n",
    "        Del = np.sum( 1.0/lamb_intra(grid_Ek, U, guess,mu) )\n",
    "        Del = -0.5*Del*U/np.square(len(grid_kx))*guess\n",
    "        if(abs(Del - guess) < 1.0E-4):\n",
    "            energy_Del = 0.0\n",
    "            energy_Del0 = 0.0\n",
    "            \n",
    "            energy_Del = - np.sum( lamb_intra(grid_Ek, U, Del) )\n",
    "            energy_Del0 = - np.sum( lamb_intra(grid_Ek, U, 0) )\n",
    "                    \n",
    "            energy_Del = 2*( energy_Del/np.square(len(grid_kx)) - U*Del**2.0 )\n",
    "            energy_Del0 = 2*( energy_Del0/np.square(len(grid_kx)) )\n",
    "            if(energy_Del < energy_Del0):\n",
    "                Del_intra_array[l] = Del\n",
    "                Energy_intra_array[l] = energy_Del\n",
    "            else:\n",
    "                Del_intra_array[l] = 0.0\n",
    "                Energy_intra_array[l] = energy_Del0\n",
    "            break\n",
    "            \n",
    "        elif(m == 99):\n",
    "            Del_intra_array[l] = 0.0\n",
    "            \n",
    "            energy_Del0 = - np.sum( lamb_intra(grid_Ek, U, 0,mu) )\n",
    "            energy_Del0 = 2*( energy_Del0/np.square(len(grid_kx)) )\n",
    "            Energy_intra_array[l] = energy_Del0\n",
    "            \n",
    "        guess = guess*0.5 + Del*0.5"
   ]
  },
  {
   "cell_type": "code",
   "execution_count": null,
   "metadata": {},
   "outputs": [],
   "source": []
  }
 ],
 "metadata": {
  "kernelspec": {
   "display_name": "Python 3",
   "language": "python",
   "name": "python3"
  },
  "language_info": {
   "codemirror_mode": {
    "name": "ipython",
    "version": 3
   },
   "file_extension": ".py",
   "mimetype": "text/x-python",
   "name": "python",
   "nbconvert_exporter": "python",
   "pygments_lexer": "ipython3",
   "version": "3.8.10"
  },
  "orig_nbformat": 4,
  "vscode": {
   "interpreter": {
    "hash": "916dbcbb3f70747c44a77c7bcd40155683ae19c65e1c03b4aa3499c5328201f1"
   }
  }
 },
 "nbformat": 4,
 "nbformat_minor": 2
}
