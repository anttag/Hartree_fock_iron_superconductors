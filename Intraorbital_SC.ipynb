{
 "cells": [
  {
   "cell_type": "code",
   "execution_count": 85,
   "id": "714e8610",
   "metadata": {},
   "outputs": [],
   "source": [
    "import numpy as np\n",
    "import matplotlib.pyplot as plt\n",
    "import matplotlib\n",
    "import seaborn as sns\n",
    "import scipy\n",
    "from tqdm import tqdm "
   ]
  },
  {
   "cell_type": "markdown",
   "id": "9fbb5870",
   "metadata": {},
   "source": [
    "# Intraorbital SC\n",
    "We start considering only the intraorbital SC order parameter in the HF Hamiltonian, so we study\n",
    "\\begin{equation}\n",
    "H =\n",
    "\\end{equation}"
   ]
  },
  {
   "cell_type": "markdown",
   "id": "86a50fcc",
   "metadata": {},
   "source": [
    "# Parameters definition"
   ]
  },
  {
   "cell_type": "code",
   "execution_count": 86,
   "id": "670cb5e7",
   "metadata": {},
   "outputs": [],
   "source": [
    "t1 = 1.0\n",
    "t2 = 1.0\n",
    "\n",
    "def Ek(t, k):\n",
    "    E = -2*t*(np.cos(k[0]) + np.cos([k[1]]))\n",
    "    return E\n",
    "\n",
    "def lamb(Ek, U, J, Del):\n",
    "    l = np.sqrt( np.square( Ek + (3*U-5*J)/2 ) + np.square(U*Del) )\n",
    "    return l\n",
    "\n",
    "def lamb_inter(Ek, U, J, Del):\n",
    "    l = np.sqrt( np.square( Ek + (3*U-5*J)/2 ) + np.square((U - 2*J)*Del) )\n",
    "    return l"
   ]
  },
  {
   "cell_type": "code",
   "execution_count": 87,
   "id": "1bf23bb4",
   "metadata": {},
   "outputs": [],
   "source": [
    "\"\"\" How many k points in the BZ \"\"\"\n",
    "\n",
    "grid_kx = np.linspace(-np.pi, np.pi, 50, endpoint = False)\n",
    "grid_ky = np.linspace(-np.pi, np.pi, 50, endpoint = False)\n",
    "grid_Ek = np.zeros((len(grid_kx), len(grid_ky)))\n",
    "\n",
    "energy_Del0 = 0\n",
    "\n",
    "for (i, kx) in enumerate(grid_kx): \n",
    "    for (j, ky) in enumerate(grid_ky):\n",
    "        k = np.array([kx, ky])\n",
    "        grid_Ek[i][j] = Ek(t1, k)"
   ]
  },
  {
   "cell_type": "code",
   "execution_count": 33,
   "id": "0ec831b5",
   "metadata": {},
   "outputs": [
    {
     "name": "stdout",
     "output_type": "stream",
     "text": [
      "0 0.3557188068274389\n",
      "1 0.33609514497375226\n",
      "2 0.3216593773629549\n",
      "3 0.3111999825659437\n",
      "4 0.30367418315463646\n",
      "5 0.2982759368344204\n",
      "6 0.2944088478059049\n",
      "7 0.29163998454454304\n",
      "8 0.2896577242765552\n",
      "9 0.28823858334180047\n",
      "10 0.28722252610323823\n",
      "11 0.28649500987090937\n",
      "12 0.2859740598247645\n",
      "13 0.2856010045066873\n",
      "14 0.28533384601900463\n",
      "-1.6114971703279324\n",
      "-1.696244607848507\n"
     ]
    }
   ],
   "source": [
    "U = -3\n",
    "J = 3/5*U\n",
    "guess = 0.5\n",
    "for m in range(20):\n",
    "    Del = 0.0\n",
    "    for (i, kx) in enumerate(grid_kx): \n",
    "        for (j, ky) in enumerate(grid_ky):\n",
    "            Del += 1.0/lamb(grid_Ek[i][j], U, J, guess) \n",
    "    Del = -0.5*Del*U/np.square(len(grid_kx))*guess\n",
    "    print(m, Del)\n",
    "    if(abs(Del - guess) < 1.0E-3):\n",
    "        energy_Del = 0.0\n",
    "        for (i, kx) in enumerate(grid_kx): \n",
    "            for (j, ky) in enumerate(grid_ky):\n",
    "                energy_Del += -lamb(grid_Ek[i][j], U, J, Del) \n",
    "                energy_Del0 += -lamb(grid_Ek[i][j], U, J, 0) \n",
    "                        \n",
    "        energy_Del = energy_Del/np.square(len(grid_kx)) - U*Del**2.0\n",
    "        energy_Del0 = energy_Del0/np.square(len(grid_kx))\n",
    "        if(energy_Del < energy_Del0):\n",
    "            Del_array[l][s] = Del\n",
    "        else:\n",
    "            Del_array[l][s] = 0.0\n",
    "            \n",
    "        print(energy_Del0)\n",
    "        print(energy_Del)\n",
    "        break\n",
    "    \n",
    "    guess = guess*0.5 + Del*0.5"
   ]
  },
  {
   "cell_type": "code",
   "execution_count": 88,
   "id": "2f5e8bdc",
   "metadata": {
    "scrolled": true
   },
   "outputs": [
    {
     "name": "stderr",
     "output_type": "stream",
     "text": [
      "100%|█████████████████████████████████████████████████████████████████████████████████████████████████████████| 50/50 [08:46<00:00, 10.53s/it]\n"
     ]
    }
   ],
   "source": [
    "U_array = np.r_[ -10 : 0.001 : 50j ]\n",
    "J_array = np.r_[ -10 : 2 : 50j ]\n",
    "\n",
    "Del_array = np.zeros([len(U_array),len(J_array)])\n",
    "guess = 0.5\n",
    "#print(Del_array)\n",
    "for l in tqdm(range(len(U_array))):\n",
    "    U = U_array[l]\n",
    "    for s in range(len(J_array)):\n",
    "        J = J_array[s]\n",
    "        for m in range(100):\n",
    "            Del = 0.0\n",
    "            for (i, kx) in enumerate(grid_kx): \n",
    "                for (j, ky) in enumerate(grid_ky):\n",
    "                    Del += 1.0/lamb(grid_Ek[i][j], U, J, guess) \n",
    "            Del = -0.5*Del*U/np.square(len(grid_kx))*guess\n",
    "            #print(m, Del)\n",
    "            if(abs(Del - guess) < 1.0E-4):\n",
    "                energy_Del = 0.0\n",
    "                energy_Del0 = 0.0\n",
    "                for (i, kx) in enumerate(grid_kx): \n",
    "                    for (j, ky) in enumerate(grid_ky):\n",
    "                        energy_Del += -lamb(grid_Ek[i][j], U, J, Del) \n",
    "                        energy_Del0 += -lamb(grid_Ek[i][j], U, J, 0) \n",
    "                        \n",
    "                energy_Del = energy_Del/np.square(len(grid_kx)) - U*Del**2.0\n",
    "                energy_Del0 = energy_Del0/np.square(len(grid_kx))\n",
    "                if(energy_Del < energy_Del0):\n",
    "                    Del_array[l][s] = Del\n",
    "                else:\n",
    "                    Del_array[l][s] = 0.0\n",
    "                break\n",
    "            guess = guess*0.5 + Del*0.5\n",
    "#print(Del_array)\n",
    "\n"
   ]
  },
  {
   "cell_type": "code",
   "execution_count": 97,
   "id": "9a34ac27",
   "metadata": {},
   "outputs": [
    {
     "data": {
      "image/png": "[encoded data removed]",
      "text/plain": [
       "<Figure size 640x480 with 2 Axes>"
      ]
     },
     "metadata": {},
     "output_type": "display_data"
    }
   ],
   "source": [
    "\"\"\"Plot of the order parameter\"\"\"\n",
    "cmaps = ['viridis', 'coolwarm']\n",
    "U_array = np.r_[ -10 : 0.001 : 50j ]\n",
    "J_array = np.r_[ -10 : 2 : 50j ]\n",
    "\n",
    "plt.figure()\n",
    "\n",
    "vmin_Del, vmax_Del = np.min(Del_array), np.max(Del_array)\n",
    "#vmin_Del, vmax_Del = 0.0, 0.5\n",
    "#plt.pcolormesh(J_array, U_array, Del_array , cmap=cmaps[1], vmin=vmin_Del, vmax=vmax_Del)\n",
    "plt.contourf(J_array, U_array, Del_array, cmap=cmaps[1], vmin=vmin_Del, vmax=vmax_Del)\n",
    "plt.colorbar()\n",
    "plt.title(r'')\n",
    "plt.grid()\n",
    "plt.xlim([-10,2])\n",
    "plt.ylim([-10,0])\n",
    "plt.xlabel(r'$J$')\n",
    "plt.ylabel(r'$U$')\n",
    "y = 5/3*J_array\n",
    "plt.plot(J_array, y, '-', color = 'black')\n",
    "plt.show()"
   ]
  },
  {
   "cell_type": "markdown",
   "id": "4d31026a",
   "metadata": {},
   "source": [
    "# Inter-orbital SC"
   ]
  },
  {
   "cell_type": "code",
   "execution_count": 65,
   "id": "3486b492",
   "metadata": {},
   "outputs": [
    {
     "name": "stdout",
     "output_type": "stream",
     "text": [
      "0 -0.1670913082229009\n",
      "1 -0.0954006193087346\n",
      "2 -0.05848161322443567\n",
      "3 0.05106438345301221\n",
      "4 -0.053640276530525804\n",
      "5 0.05275224497688826\n",
      "6 -0.053059010998779375\n",
      "7 0.052953120988067794\n",
      "8 -0.05298968162691269\n",
      "9 0.05297705946261804\n",
      "10 -0.05298141726173714\n",
      "11 0.052979912748619164\n",
      "12 -0.05298043217779534\n",
      "13 0.05298025284647222\n",
      "14 -0.05298031476008604\n",
      "15 0.052980293384595624\n",
      "16 -0.05298030076442041\n",
      "17 0.05298029821655775\n",
      "18 -0.05298029909619979\n",
      "19 0.05298029879250596\n"
     ]
    }
   ],
   "source": [
    "U = -3\n",
    "J = 3/5*U\n",
    "guess = 0.5\n",
    "for m in range(20):\n",
    "    Del = 0.0\n",
    "    for (i, kx) in enumerate(grid_kx): \n",
    "        for (j, ky) in enumerate(grid_ky):\n",
    "            Del += 1.0/lamb_inter(grid_Ek[i][j], U, J, guess) \n",
    "    Del = -0.5*Del*(U-2*J)/np.square(len(grid_kx))*guess\n",
    "    print(m, Del)\n",
    "    if(abs(Del - guess) < 1.0E-3):\n",
    "        energy_Del = 0.0\n",
    "        for (i, kx) in enumerate(grid_kx): \n",
    "            for (j, ky) in enumerate(grid_ky):\n",
    "                energy_Del += -lamb_inter(grid_Ek[i][j], U, J, Del) \n",
    "                energy_Del0 += -lamb_inter(grid_Ek[i][j], U, J, 0) \n",
    "                        \n",
    "        energy_Del = energy_Del/np.square(len(grid_kx)) - U*Del**2.0\n",
    "        energy_Del0 = energy_Del0/np.square(len(grid_kx))\n",
    "        if(energy_Del < energy_Del0):\n",
    "            Del_array[l][s] = Del\n",
    "        else:\n",
    "            Del_array[l][s] = 0.0\n",
    "            \n",
    "        print(energy_Del0)\n",
    "        print(energy_Del)\n",
    "        break\n",
    "    if(m==19):\n",
    "        Del = 0.0\n",
    "    \n",
    "    guess = guess*0.5 + Del*0.5"
   ]
  },
  {
   "cell_type": "code",
   "execution_count": null,
   "id": "7c4a7797",
   "metadata": {},
   "outputs": [],
   "source": []
  },
  {
   "cell_type": "code",
   "execution_count": 90,
   "id": "0768e317",
   "metadata": {
    "scrolled": true
   },
   "outputs": [
    {
     "name": "stderr",
     "output_type": "stream",
     "text": [
      "100%|█████████████████████████████████████████████████████████████████████████████████████████████████████████| 10/10 [00:09<00:00,  1.02it/s]\n"
     ]
    }
   ],
   "source": [
    "U_array = np.r_[ -10 : 10 : 10j ]\n",
    "J_array = np.r_[ -10 : 10 : 10j ]\n",
    "\n",
    "Del_inter_array = np.zeros([len(U_array),len(J_array)])\n",
    "guess = 0.5\n",
    "#print(Del_array)\n",
    "for l in tqdm(range(len(U_array))):\n",
    "    U = U_array[l]\n",
    "    for s in range(len(J_array)):\n",
    "        J = J_array[s]\n",
    "        for m in range(20):\n",
    "            Del = 0.0\n",
    "            for (i, kx) in enumerate(grid_kx): \n",
    "                for (j, ky) in enumerate(grid_ky):\n",
    "                    Del += 1.0/lamb_inter(grid_Ek[i][j], U, J, guess) \n",
    "            Del = -0.5*Del*(U-2*J)/np.square(len(grid_kx))*guess\n",
    "            \n",
    "            if(abs(Del - guess) < 1.0E-5):\n",
    "                energy_Del = 0.0\n",
    "                energy_Del0 = 0.0\n",
    "                for (i, kx) in enumerate(grid_kx): \n",
    "                    for (j, ky) in enumerate(grid_ky):\n",
    "                        energy_Del += -lamb_inter(grid_Ek[i][j], U, J, Del) \n",
    "                        energy_Del0 += -lamb_inter(grid_Ek[i][j], U, J, 0) \n",
    "                        \n",
    "                energy_Del = energy_Del/np.square(len(grid_kx)) - (U-2*J)*Del**2.0\n",
    "                energy_Del0 = energy_Del0/np.square(len(grid_kx))\n",
    "                if(energy_Del < energy_Del0):\n",
    "                    Del_inter_array[l][s] = Del\n",
    "                else:\n",
    "                    Del_inter_array[l][s] = 0.0\n",
    "                break\n",
    "            guess = guess*0.5 + Del*0.5\n",
    "#print(Del_array)\n"
   ]
  },
  {
   "cell_type": "code",
   "execution_count": 91,
   "id": "df2a4bc3",
   "metadata": {},
   "outputs": [
    {
     "data": {
      "image/png": "[encoded data removed]",
      "text/plain": [
       "<Figure size 640x480 with 2 Axes>"
      ]
     },
     "metadata": {},
     "output_type": "display_data"
    }
   ],
   "source": [
    "\"\"\"Plot of the order parameter\"\"\"\n",
    "cmaps = ['viridis', 'coolwarm']\n",
    "\n",
    "plt.figure()\n",
    "\n",
    "vmin_Del, vmax_Del = np.min(Del_inter_array), np.max(Del_inter_array)\n",
    "#plt.pcolormesh(J_array, U_array, Del_array , cmap=cmaps[1], vmin=vmin_Del, vmax=vmax_Del)\n",
    "plt.contourf(J_array, U_array, Del_inter_array, cmap=cmaps[1], vmin=vmin_Del, vmax=vmax_Del)\n",
    "plt.colorbar()\n",
    "plt.title(r'')\n",
    "plt.grid()\n",
    "plt.xlim([-10,10])\n",
    "plt.ylim([-10,0])\n",
    "plt.xlabel(r'$J$')\n",
    "plt.ylabel(r'$U$')\n",
    "y = 5/3*J_array\n",
    "plt.plot(J_array, y, '-', color = 'black')\n",
    "plt.show()"
   ]
  },
  {
   "cell_type": "code",
   "execution_count": null,
   "id": "350a01ab",
   "metadata": {},
   "outputs": [],
   "source": []
  }
 ],
 "metadata": {
  "kernelspec": {
   "display_name": "Python 3 (ipykernel)",
   "language": "python",
   "name": "python3"
  },
  "language_info": {
   "codemirror_mode": {
    "name": "ipython",
    "version": 3
   },
   "file_extension": ".py",
   "mimetype": "text/x-python",
   "name": "python",
   "nbconvert_exporter": "python",
   "pygments_lexer": "ipython3",
   "version": "3.8.15"
  }
 },
 "nbformat": 4,
 "nbformat_minor": 5
}
