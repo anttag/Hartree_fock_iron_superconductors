{
 "cells": [
  {
   "cell_type": "code",
   "execution_count": 1,
   "id": "714e8610",
   "metadata": {},
   "outputs": [],
   "source": [
    "import numpy as np\n",
    "import matplotlib.pyplot as plt\n",
    "import matplotlib\n",
    "import seaborn as sns\n",
    "import scipy\n",
    "from tqdm import tqdm \n"
   ]
  },
  {
   "cell_type": "markdown",
   "id": "9fbb5870",
   "metadata": {},
   "source": [
    "# Intraorbital SC\n",
    "We start considering only the intraorbital SC order parameter in the HF Hamiltonian, so we study\n",
    "\\begin{equation}\n",
    "H =\n",
    "\\end{equation}"
   ]
  },
  {
   "cell_type": "markdown",
   "id": "86a50fcc",
   "metadata": {},
   "source": [
    "# Parameters definition"
   ]
  },
  {
   "cell_type": "code",
   "execution_count": 14,
   "id": "670cb5e7",
   "metadata": {},
   "outputs": [],
   "source": [
    "t1 = 1.0\n",
    "t2 = 1.0\n",
    "\n",
    "def Ek(t, k):\n",
    "    E = -2*t*(np.cos(k[0]) + np.cos([k[1]]))\n",
    "    return E\n",
    "\n",
    "def lamb(Ek, U, J, Del):\n",
    "    l = np.sqrt( np.square( Ek + (3*U-5*J)/2 ) + np.square(U*Del) )\n",
    "    return l\n",
    "\n",
    "def lamb_intra(Ek, U, J, Del):\n",
    "    l = np.sqrt( np.square( Ek + (3*U-5*J)/2 ) + np.square((U - 2*J)*Del) )\n",
    "    return l"
   ]
  },
  {
   "cell_type": "code",
   "execution_count": 15,
   "id": "1bf23bb4",
   "metadata": {},
   "outputs": [
    {
     "data": {
      "text/plain": [
       "-1.6208723769030127"
      ]
     },
     "execution_count": 15,
     "metadata": {},
     "output_type": "execute_result"
    }
   ],
   "source": [
    "\"\"\" How many k points in the BZ \"\"\"\n",
    "\n",
    "grid_kx = np.linspace(-np.pi, np.pi, 100, endpoint = False)\n",
    "grid_ky = np.linspace(-np.pi, np.pi, 100, endpoint = False)\n",
    "grid_Ek = np.zeros((len(grid_kx), len(grid_ky)))\n",
    "\n",
    "energy_Del0 = 0\n",
    "\n",
    "for (i, kx) in enumerate(grid_kx): \n",
    "    for (j, ky) in enumerate(grid_ky):\n",
    "        k = np.array([kx, ky])\n",
    "        grid_Ek[i][j] = Ek(t1, k)\n",
    "        energy_Del0 += -lamb(grid_Ek[i][j], U, J, 0) + (grid_Ek[i][j] + (3*U-5*J)/2)\n",
    "        \n",
    "energy_Del0 = energy_Del0/np.square(len(grid_kx))\n",
    "energy_Del0"
   ]
  },
  {
   "cell_type": "code",
   "execution_count": 13,
   "id": "82f663ea",
   "metadata": {},
   "outputs": [
    {
     "name": "stdout",
     "output_type": "stream",
     "text": [
      "0 0.9359531670489161\n",
      "1 0.9655248404134725\n",
      "2 0.9741564600396196\n",
      "3 0.9775281141008386\n",
      "4 0.979046774877956\n",
      "5 0.9797800935013926\n",
      "6 0.9801467450394686\n",
      "7 0.9803333457577655\n",
      "8 0.9804291812399331\n",
      "9 0.9804786326753789\n",
      "10 0.9805042118394165\n"
     ]
    },
    {
     "data": {
      "text/plain": [
       "-10.004500776823372"
      ]
     },
     "execution_count": 13,
     "metadata": {},
     "output_type": "execute_result"
    }
   ],
   "source": [
    "U = -10\n",
    "J = 3/5*U\n",
    "guess = 0.5\n",
    "\n",
    "for m in range(20):\n",
    "    Del = 0.0\n",
    "    for (i, kx) in enumerate(grid_kx): \n",
    "        for (j, ky) in enumerate(grid_ky):\n",
    "            Del += 1.0/lamb(grid_Ek[i][j], U, J, guess) \n",
    "    Del = Del*abs(U)/np.square(len(grid_kx))*guess\n",
    "    print(m, Del)\n",
    "    if(abs(Del - guess) < 1.0E-3):\n",
    "        break\n",
    "    guess = guess*0.5 + Del*0.5\n",
    "\n",
    "energy_Del = 0.0\n",
    "for (i, kx) in enumerate(grid_kx): \n",
    "    for (j, ky) in enumerate(grid_ky):\n",
    "        energy_Del += -lamb(grid_Ek[i][j], U, J, Del) + (grid_Ek[i][j] + (3*U-5*J)/2)\n",
    "        \n",
    "energy_Del = energy_Del/np.square(len(grid_kx))\n",
    "energy_Del"
   ]
  },
  {
   "cell_type": "code",
   "execution_count": null,
   "id": "2f5e8bdc",
   "metadata": {
    "scrolled": true
   },
   "outputs": [
    {
     "name": "stderr",
     "output_type": "stream",
     "text": [
      " 37%|███████████████▊                           | 11/30 [10:04<16:38, 52.57s/it]"
     ]
    }
   ],
   "source": [
    "U_array = np.r_[ -10 : -0.1 : 30j ]\n",
    "J_array = np.r_[ -10 : 2 : 30j ]\n",
    "\n",
    "Del_array = np.zeros([len(U_array),len(J_array)])\n",
    "#print(Del_array)\n",
    "for l in tqdm(range(len(U_array))):\n",
    "    for s in range(len(J_array)):\n",
    "        for m in range(20):\n",
    "            Del = 0.0\n",
    "            for (i, kx) in enumerate(grid_kx): \n",
    "                for (j, ky) in enumerate(grid_ky):\n",
    "                    k = np.array([kx, ky])\n",
    "                    grid_Ek[i][j] = Ek(t1, k)\n",
    "                    Del += 1.0/lamb(grid_Ek[i][j], U_array[l], J_array[s], guess) \n",
    "            Del = Del*abs(U_array[l])/np.square(len(grid_kx))*guess\n",
    "            #print(m, Del)\n",
    "            if(abs(Del - guess) < 1.0E-3):\n",
    "                energy_Del = 0.0\n",
    "                for (i, kx) in enumerate(grid_kx): \n",
    "                    for (j, ky) in enumerate(grid_ky):\n",
    "                        energy_Del += -lamb(grid_Ek[i][j], U, J, Del) + (grid_Ek[i][j] + (3*U-5*J)/2)\n",
    "\n",
    "                energy_Del = energy_Del/np.square(len(grid_kx))\n",
    "                if(energy_Del < energy_Del0):\n",
    "                    Del_array[l][s] = Del\n",
    "                else:\n",
    "                    Del_array[l][s] = 0.0\n",
    "                break\n",
    "            guess = guess*0.5 + Del*0.5\n",
    "#print(Del_array)\n",
    "\n"
   ]
  },
  {
   "cell_type": "code",
   "execution_count": null,
   "id": "9a34ac27",
   "metadata": {},
   "outputs": [],
   "source": [
    "\"\"\"Plot of the order parameter\"\"\"\n",
    "cmaps = ['viridis', 'coolwarm']\n",
    "\n",
    "plt.figure()\n",
    "\n",
    "vmin_Del, vmax_Del = np.min(Del_array), np.max(Del_array)\n",
    "#plt.pcolormesh(J_array, U_array, Del_array , cmap=cmaps[1], vmin=vmin_Del, vmax=vmax_Del)\n",
    "plt.contourf(J_array, U_array, Del_array, cmap=cmaps[1], vmin=vmin_Del, vmax=vmax_Del)\n",
    "plt.colorbar()\n",
    "plt.title(r'')\n",
    "plt.grid()\n",
    "plt.xlim([-10,10])\n",
    "plt.ylim([-10,0])\n",
    "plt.xlabel(r'$J$')\n",
    "plt.ylabel(r'$U$')\n",
    "y = 5/3*J_array\n",
    "plt.plot(J_array, y, '-', color = 'black')\n",
    "plt.show()"
   ]
  },
  {
   "cell_type": "markdown",
   "id": "4d31026a",
   "metadata": {},
   "source": [
    "# Intra-orbital SC"
   ]
  },
  {
   "cell_type": "code",
   "execution_count": 79,
   "id": "76ae2ef8",
   "metadata": {},
   "outputs": [
    {
     "name": "stdout",
     "output_type": "stream",
     "text": [
      "0 0.32062882577146146\n",
      "1 0.26787018772852994\n",
      "2 0.2240676059275379\n",
      "3 0.18761017809853758\n",
      "4 0.15720022460079197\n",
      "5 0.13179082324659971\n",
      "6 0.11053193673955074\n",
      "7 0.09272843671436143\n",
      "8 0.07780823979870531\n",
      "9 0.06529808674464678\n",
      "10 0.05480490617808667\n",
      "11 0.04600125135569184\n",
      "12 0.038613745098221755\n",
      "13 0.03241378845424984\n",
      "14 0.02721000765635476\n",
      "15 0.022842061517171365\n",
      "16 0.01917553122950631\n",
      "17 0.01609768304274242\n",
      "18 0.013513942336137917\n",
      "19 0.011344952176612126\n",
      "20 0.009524114984301361\n",
      "21 0.007995535276816911\n",
      "22 0.0067122964573775425\n",
      "23 0.005635016456293569\n",
      "24 0.00473063653676756\n",
      "25 0.003971405290232744\n",
      "26 0.003334026167080167\n",
      "27 0.0027989421026729773\n",
      "28 0.0023497351211735906\n",
      "29 0.0019726223962653303\n"
     ]
    }
   ],
   "source": [
    "U = -10\n",
    "J = 0\n",
    "guess = 0.5\n",
    "for m in range(50):\n",
    "    Del = 0.0\n",
    "    for (i, kx) in enumerate(grid_kx): \n",
    "        for (j, ky) in enumerate(grid_ky):\n",
    "            k = np.array([kx, ky])\n",
    "            grid_Ek[i][j] = Ek(t1, k)\n",
    "            Del += 1.0/lamb_intra(grid_Ek[i][j], U, J, guess) \n",
    "    #print(m, Del)\n",
    "    Del = Del*abs(U-2*J)/np.square(len(grid_kx))*guess\n",
    "    print(m, Del)\n",
    "    if(abs(Del - guess) < 1.0E-3):\n",
    "        break\n",
    "    guess = guess*0.5 + Del*0.5\n",
    "    #print(m, guess)"
   ]
  },
  {
   "cell_type": "code",
   "execution_count": null,
   "id": "5477ca41",
   "metadata": {},
   "outputs": [],
   "source": []
  },
  {
   "cell_type": "code",
   "execution_count": 56,
   "id": "0768e317",
   "metadata": {
    "scrolled": true
   },
   "outputs": [
    {
     "name": "stderr",
     "output_type": "stream",
     "text": [
      "100%|█████████████████████████████████████████████| 6/6 [00:25<00:00,  4.33s/it]\n"
     ]
    }
   ],
   "source": [
    "U_array = np.r_[ -10 : -0.1 : 6j ]\n",
    "J_array = np.r_[ -10 : 10 : 11j ]\n",
    "\n",
    "Del_array = np.zeros([len(U_array),len(J_array)])\n",
    "\n",
    "for l in tqdm(range(len(U_array))):\n",
    "    for s in range(len(J_array)):\n",
    "        for m in range(20):\n",
    "            Del = 0.0\n",
    "            for (i, kx) in enumerate(grid_kx): \n",
    "                for (j, ky) in enumerate(grid_ky):\n",
    "                    k = np.array([kx, ky])\n",
    "                    grid_Ek[i][j] = Ek(t1, k)\n",
    "                    Del += 1.0/lamb_intra(grid_Ek[i][j], U_array[l], J_array[s], guess) \n",
    "            Del = -0.5*Del*(U_array[l]-2*J_array[s])/np.square(len(grid_kx))*guess\n",
    "            #print(m, Del)\n",
    "            if(abs(Del - guess) < 1.0E-3):\n",
    "                Del_array[l][s] = Del\n",
    "                break\n",
    "            guess = guess*0.5 + Del*0.5"
   ]
  },
  {
   "cell_type": "code",
   "execution_count": 57,
   "id": "b8889518",
   "metadata": {},
   "outputs": [
    {
     "data": {
      "text/plain": [
       "0.0006439362602892076"
      ]
     },
     "execution_count": 57,
     "metadata": {},
     "output_type": "execute_result"
    }
   ],
   "source": [
    "np.max(Del_array)"
   ]
  },
  {
   "cell_type": "code",
   "execution_count": 58,
   "id": "df2a4bc3",
   "metadata": {},
   "outputs": [
    {
     "data": {
      "image/png": "[encoded data removed]",
      "text/plain": [
       "<Figure size 640x480 with 2 Axes>"
      ]
     },
     "metadata": {},
     "output_type": "display_data"
    }
   ],
   "source": [
    "\"\"\"Plot of the order parameter\"\"\"\n",
    "cmaps = ['viridis', 'coolwarm']\n",
    "\n",
    "plt.figure()\n",
    "\n",
    "vmin_Del, vmax_Del = np.min(Del_array), np.max(Del_array)\n",
    "#plt.pcolormesh(J_array, U_array, Del_array , cmap=cmaps[1], vmin=vmin_Del, vmax=vmax_Del)\n",
    "plt.contourf(J_array, U_array, Del_array, cmap=cmaps[1], vmin=vmin_Del, vmax=vmax_Del)\n",
    "plt.colorbar()\n",
    "plt.title(r'')\n",
    "plt.grid()\n",
    "plt.xlim([-10,10])\n",
    "plt.ylim([-10,0])\n",
    "plt.xlabel(r'$J$')\n",
    "plt.ylabel(r'$U$')\n",
    "y = 5/3*J_array\n",
    "plt.plot(J_array, y, '-', color = 'black')\n",
    "plt.show()"
   ]
  },
  {
   "cell_type": "code",
   "execution_count": null,
   "id": "350a01ab",
   "metadata": {},
   "outputs": [],
   "source": []
  }
 ],
 "metadata": {
  "kernelspec": {
   "display_name": "Python 3 (ipykernel)",
   "language": "python",
   "name": "python3"
  },
  "language_info": {
   "codemirror_mode": {
    "name": "ipython",
    "version": 3
   },
   "file_extension": ".py",
   "mimetype": "text/x-python",
   "name": "python",
   "nbconvert_exporter": "python",
   "pygments_lexer": "ipython3",
   "version": "3.8.15"
  }
 },
 "nbformat": 4,
 "nbformat_minor": 5
}
