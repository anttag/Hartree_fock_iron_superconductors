{
 "cells": [
  {
   "cell_type": "markdown",
   "metadata": {
    "id": "LqewycVEd8YZ"
   },
   "source": [
    "# Mean-field study of the Kanamori Hamiltonian #\n",
    "Consider the following multi-band Hamiltonian on a square lattice at half filling \n",
    "\n",
    "\\begin{align}\n",
    "    H &= H_0 + H_{int}\\notag\\\\\n",
    "    H_0 &= \\sum_{\\substack{<ij> \\\\ m,\\sigma}} t^m c^\\dagger_{i m \\sigma} c_{j m \\sigma } + h.c. \\\\ \n",
    "    H_{int} &= U \\sum_{i,m} n_{im \\uparrow} n_{i m \\downarrow} + \\left( U-2J\\right) \\sum_{i,m \\neq n} n_{im \\uparrow} n_{i m \\downarrow} + \\left( U-3J\\right) \\sum_{\\substack{i, m <n \\\\ \\sigma}} n_{im\\sigma}n_{in\\sigma} \\\\\n",
    "     &= \\frac{U}{2}\\sum_{i,m,\\sigma} n_{im\\sigma}n_{im \\bar{\\sigma}} +\\frac{U-2J}{2} \\sum_{\\substack{i,m \\neq n\\\\ \\sigma}} n_{im \\sigma} n_{i n \\bar{\\sigma}} +\\frac{U-3J}{2} \\sum_{\\substack{i,m < n\\\\ \\sigma}} n_{im \\sigma} n_{i n \\bar{\\sigma}}\\notag.\n",
    "\\end{align}\n",
    "Let us now decouple the interaction term considering the following order parameters:\n",
    "\n",
    "\n",
    "*  **Intra-orbital** SC $\\longrightarrow \\Delta_m = \\langle c^\\dagger_{m\\uparrow} c^\\dagger_{n\\downarrow}\\rangle,\\ \\Delta^\\ast_m = \\langle c_{m\\downarrow}c_{m\\uparrow} \\rangle$ \n",
    "*   **Inter-orbital** SC $\\longrightarrow \\Delta_{mn} = \\langle c^\\dagger_{m\\uparrow} c^\\dagger_{n\\downarrow}\\rangle$  \n",
    "*   **Charge-density wave** $\\longrightarrow \\Delta = \\frac{1}{N} \\sum_{i,m} \\left(-\\right)^i \\langle n_{im}\\rangle \\Rightarrow \\langle n_{im\\sigma} \\rangle = \\frac{1}{2} +\\left(-\\right)^i \\frac{\\Delta}{4}$\n",
    "\n",
    "#Mean-field decoupling\n",
    "\n",
    " \\begin{align}\n",
    "  1)\\ \\ \\       n_{im\\sigma}n_{im\\bar{\\sigma}} &=c^\\dagger_{im\\sigma}c_{im\\sigma}c^\\dagger_{im\\bar{\\sigma}}c_{im\\bar{\\sigma}} \\notag\\\\\n",
    "        &= \\langle c^\\dagger_{im\\sigma}c^\\dagger_{im\\bar{\\sigma}} \\rangle c_{im\\bar{\\sigma}}c_{im\\sigma}+c^\\dagger_{im\\sigma}c^\\dagger_{im\\bar{\\sigma}} \\langle c_{im\\bar{\\sigma}}c_{im\\sigma}\\rangle -\\langle c^\\dagger_{im\\sigma}c^\\dagger_{im\\bar{\\sigma}}\\rangle\\langle c_{im\\bar{\\sigma}}c_{im\\sigma}\\rangle + \\langle n_{im\\sigma} \\rangle n_{im\\bar{\\sigma}}\\notag \\\\ \n",
    "        \\; \\; \\; \\; &\\ + n_{im\\sigma}\\langle n_{im\\bar{\\sigma}}\\rangle-\\langle n_{im\\sigma} \\rangle\\langle n_{im\\bar{\\sigma}}\\rangle \\notag\\\\\n",
    "        &= \\Delta_m c_{im\\bar{\\sigma}}c_{im\\sigma} + \\Delta^\\ast_m c^\\dagger_{im\\sigma}c^\\dagger_{im\\bar{\\sigma}} - |\\Delta_m|^2 + \\left( \\frac{1}{2} + (-)^i \\frac{\\Delta}{4} \\right) \\left( n_{im\\bar{\\sigma}}+n_{im\\sigma}\\right)+\\notag \\\\\n",
    "        \\; \\; \\; \\; &\\ - \\left( \\frac{1}{2} +(-)^i\\frac{\\Delta}{4}\\right)^2.\n",
    "\\end{align} \n",
    "Consequently\n",
    "\\begin{align}\n",
    "    \\sum_{i,m,\\sigma}  n_{im\\sigma}n_{im\\bar{\\sigma}} &= \\sum_{im\\sigma} \\left(\\Delta_m c_{im\\bar{\\sigma}}c_{im\\sigma} + \\Delta^\\ast_m c^\\dagger_{im\\sigma}c^\\dagger_{im\\bar{\\sigma}} \\right)-4N|\\Delta_m|^2+\\frac{1}{2} \\sum_{i,m,\\sigma} \\left( n_{im \\bar{\\sigma}}+n_{im\\sigma}\\right)+ \\notag\\\\\n",
    "    &+\\sum_{i,m,\\sigma} \\frac{(-)^i\\Delta}{4}\\left( n_{im\\bar{\\sigma}}+n_{im\\sigma}\\right)-N-4N\\frac{\\Delta^2}{16}.\n",
    "\\end{align}\n",
    "\\begin{align}\n",
    "    2)\\ \\ \\  n_{im\\sigma}n_{in\\bar{\\sigma}} &= c^\\dagger_{im\\sigma}c_{im\\sigma}c^\\dagger_{in\\bar{\\sigma}}c_{in\\bar{\\sigma}} \\notag \\\\\n",
    "    &= \\langle c^\\dagger_{im\\sigma}c^\\dagger_{in\\bar{\\sigma}}\\rangle c_{in\\bar{\\sigma}}c_{im\\sigma} + c^\\dagger_{im\\sigma}c^\\dagger_{in\\bar{\\sigma}}\\langle c_{in\\bar{\\sigma}}c_{im\\sigma} \\rangle -\\langle c^\\dagger_{im\\sigma}c^\\dagger_{in\\bar{\\sigma}}\\rangle \\langle c_{in\\bar{\\sigma}}c_{im\\sigma} \\rangle + \\notag\\\\\n",
    "    \\ \\ \\ \\ &+ \\langle n_{im \\sigma} \\rangle n_{in \\bar{\\sigma}}+ n_{im\\sigma} \\langle n_{in\\bar{\\sigma}}\\rangle -\\langle n_{im \\sigma} \\rangle \\langle n_{in\\bar{\\sigma}}\\rangle \\notag \\\\\n",
    "    &= \\Delta_{mn}c_{in \\bar{\\sigma}}c_{im\\sigma} + \\Delta^\\ast_{mn}c^\\dagger_{im\\sigma}c^\\dagger_{in\\bar{\\sigma}}- |\\Delta_{mn}|^2 + \\left( \\frac{1}{2} + (-)^i \\frac{\\Delta}{4} \\right) \\left( n_{in\\bar{\\sigma}}+n_{im\\sigma}\\right) + \\notag \\\\\n",
    "   \\; \\; \\; \\;&\\ - \\left( \\frac{1}{2} +(-)^i\\frac{\\Delta}{4}\\right)^2.\n",
    "\\end{align}\n",
    "Consequently\n",
    "\\begin{align}\n",
    "    \\sum_{\\substack{i,\\sigma \\\\ m\\neq n}} n_{im\\sigma}n_{in\\bar{\\sigma}}&=\\sum_{\\substack{i,\\sigma \\\\ m\\neq n}} \\left(\\Delta_{mn} c_{in\\bar{\\sigma}}c_{im\\sigma} + \\Delta^\\ast_{mn} c^\\dagger_{im\\sigma}c^\\dagger_{in\\bar{\\sigma}} \\right)-4N|\\Delta_{mn}|^2+\\frac{1}{2} \\sum_{\\substack{i,\\sigma\\\\ m\\neq n}} \\left( n_{in \\bar{\\sigma}}+n_{im\\sigma}\\right)+ \\notag\\\\\n",
    "    &+\\sum_{\\substack{i,\\sigma \\\\ m\\neq n}} \\frac{(-)^i\\Delta}{4}\\left( n_{in\\bar{\\sigma}}+n_{im\\sigma}\\right)-N-4N\\frac{\\Delta^2}{16}.\n",
    "\\end{align}\n",
    " \\begin{align}\n",
    "  3)\\ \\ \\   n_{im\\sigma}n_{in\\sigma} &= \\langle n_{im\\sigma}\\rangle n_{in\\sigma} + n_{im\\sigma}\\langle n_{in\\sigma}\\rangle - \\langle n_{im\\sigma} \\rangle \\langle n_{in\\sigma}\\rangle \\notag \\\\\n",
    "   &= \\left( \\frac{1}{2} + (-)^i \\frac{\\Delta}{4} \\right) \\left( n_{in\\sigma}+n_{im\\sigma}\\right) \n",
    "   - \\left( \\frac{1}{2} +(-)^i\\frac{\\Delta}{4}\\right)^2.\n",
    "\\end{align}\n",
    "Consequently\n",
    "\\begin{align}\n",
    "    \\sum_{\\substack{i, \\sigma \\\\ m \\neq n}} n_{i m \\sigma} n_{i n \\sigma} = \\frac{1}{2} \\sum_{\\substack{i, \\sigma \\\\ m \\neq n}} \\left( n_{im \\bar{\\sigma}}+n_{in\\sigma}\\right)\n",
    "    +\\sum_{\\substack{i, \\sigma \\\\ m \\neq n}} \\frac{(-)^i\\Delta}{4}\\left( n_{im\\bar{\\sigma}}+n_{in\\sigma}\\right)-N-4N\\frac{\\Delta^2}{16}.\n",
    "\\end{align}\n",
    "The full Hartree-Fock Hamiltonian thus reads\n",
    "\\begin{align}\n",
    "    H &= - \\sum_{\\substack{<i,j> \\\\ m,\\sigma}} t^m c^\\dagger_{im\\sigma}c_{jm\\sigma} + h.c. + \\notag \\\\\n",
    "    &+\\frac{U}{2}  \\sum_{i,m,\\sigma}\\left(  \\Delta_m c_{im\\bar{\\sigma}}c_{im\\sigma} + \\Delta^\\ast_m c^\\dagger_{im\\sigma}c^\\dagger_{im\\bar{\\sigma}} \\right) - 2N |\\Delta_m|^2U + \\notag \\\\\n",
    "    &+\\frac{U-2J}{2} \\sum_{\\substack{i,\\sigma \\\\ m \\neq n}}\\left(\\Delta_{mn} c_{in\\bar{\\sigma}}c_{im\\sigma} + \\Delta^\\ast_{mn} c^\\dagger_{im\\sigma}c^\\dagger_{in\\bar{\\sigma}} \\right) - 2N |\\Delta_{mn}|^2(U-2J) +\\notag \\\\\n",
    "    &+ \\frac{3U-5J}{2} \\sum_i (-)^i \\frac{\\Delta}{2}n_i -\\frac{3U-5J}{2}N\\frac{\\Delta^2}{4} \\notag +\\notag \\\\\n",
    "    &+ \\frac{3U-5J}{2}\\sum_i n_i - \\frac{3U-5J}{2}N.\n",
    "\\end{align}\n",
    "As regards the last two terms: the first one is put to $0$ and the second one is a constant shift in the energy. Let us now use Fourier representation\n",
    "\\begin{align}\n",
    "    c_{im\\sigma}=\\frac{1}{\\sqrt{N}} \\sum_k c_{mk\\sigma}e^{ikR_i}.\n",
    "\\end{align}\n",
    "Hence the Hamiltonian becomes\n",
    "\\begin{align}\n",
    "    H&=\\sum_{k,m,\\sigma} E_{k,m} c^\\dagger_{km\\sigma}c_{km\\sigma} + \\notag \\\\\n",
    "    &+ \\frac{U}{2} \\sum_{k,m,\\sigma}  \\left( \\Delta_m c_{-km\\bar{\\sigma}}c_{km\\sigma} + \\Delta^\\ast_m c^\\dagger_{km\\sigma}c^\\dagger_{-km\\bar{\\sigma}} \\right)-2N|\\Delta_m|^2U + \\notag \\\\\n",
    "    &+ \\frac{U-2J}{2} \\sum_{\\substack{k,\\sigma \\\\ m \\neq n}} \\left(\\Delta_{mn} c_{-kn\\bar{\\sigma}}c_{km\\sigma} + \\Delta^\\ast_{mn} c^\\dagger_{km\\sigma}c^\\dagger_{-kn\\bar{\\sigma}} \\right) -2N|\\Delta_{mn}|^2\\left( U-2J\\right) +\\notag \\\\\n",
    "    &+ \\frac{3U-5J}{2}\\sum_{k,m,\\sigma} \\frac{\\Delta}{2} c^\\dagger_{k+Qm\\sigma}c_{km\\sigma} - \\frac{3U-5J}{2}N \\frac{\\Delta^2}{4},\n",
    "\\end{align}\n",
    "where $E_{km} = -2t^m \\left( \\cos{\\left( k_xa\\right)}+\\cos{\\left( k_ya\\right)}\\right)$ and $Q = \\displaystyle\\left( \\frac{\\pi}{a},\\frac{\\pi}{a}\\right)$. \\\\\n",
    "We now study our problem allowing for one order parameter at a time.\n",
    "\n",
    "#Intra-orbital SC\n",
    "\\begin{align}\n",
    "H &= \\sum_{k,m,\\sigma} E_{k,m} c^\\dagger_{km\\sigma}c_{km\\sigma} +\n",
    "     \\frac{U}{2} \\sum_{k,m,\\sigma}  \\left( \\Delta_m c_{-km\\bar{\\sigma}}c_{km\\sigma} + \\Delta^\\ast_m c^\\dagger_{km\\sigma}c^\\dagger_{-km\\bar{\\sigma}} \\right)-2N|\\Delta_m|^2U \\notag \\\\\n",
    "     &= \\sum_{k,m,\\sigma} \\begin{pmatrix} c^\\dagger_{km\\sigma} &  c_{-km\\sigma} \\end{pmatrix} \\begin{pmatrix}\n",
    "\\frac{E_{km}}{2}& \\frac{U}{2}\\Delta^\\ast_m  \\\\\n",
    "\\frac{U}{2}\\Delta_m & -\\frac{E_{km}}{2} \\\\\n",
    "\\end{pmatrix} \\begin{pmatrix} c_{km\\sigma} \\\\c^\\dagger_{-km\\sigma}\\end{pmatrix},\n",
    "\\end{align}\n",
    "so \n",
    "\\begin{align}\n",
    " E_{GS} &= \\sum_{k,m,\\sigma} \\left( -\\frac{1}{2} \\sqrt{E_{km}^2+ U^2|\\Delta_m|^2}+\\frac{E_km}{2}\\right) -2N|\\Delta_m|^2U \\notag\\\\\n",
    "&=-2 \\sum_k \\sqrt{E^2_{km}+|U|^2|\\Delta_m|^2}-2N|\\Delta_m|^2U.\n",
    "\\end{align}\n",
    "Imposing the condition $\\partial_{|\\Delta_m} E_{GS} =0$ we obtain the self-consistency equation\n",
    "\\begin{equation}\n",
    "|\\Delta_m| = -\\frac{1}{2N} \\sum_k \\frac{U|\\Delta_m}{\\sqrt{E^2_{km}+U^2|\\Delta_m|^2}}.\n",
    "\\end{equation}\n",
    "\n",
    "#Inter-orbital SC\n",
    "\n",
    "\\begin{align}\n",
    "    H &= \\sum_{k,m,\\sigma} E_{k,m} c^\\dagger_{km\\sigma}c_{km\\sigma} + \\frac{U-2J}{2} \\sum_{\\substack{k,\\sigma \\\\ m \\neq n}} \\left(\\Delta_{mn} c_{-kn\\bar{\\sigma}}c_{km\\sigma} + \\Delta^\\ast_{mn} c^\\dagger_{km\\sigma}c^\\dagger_{-kn\\bar{\\sigma}} \\right) + \\notag \\\\\n",
    "    &-2N|\\Delta_{mn}|^2\\left( U-2J\\right) \\notag \\\\\n",
    "    &= \\sum_{k,m,\\sigma} E_{k,m} c^\\dagger_{km\\sigma}c_{km\\sigma} + \\frac{U-2J}{2} \\sum_{\\substack{k,\\sigma \\\\ m }} \\left(\\Delta_{m\\bar{m}} c_{-k\\bar{m}\\bar{\\sigma}}c_{km\\sigma} + \\Delta^\\ast_{m\\bar{m}} c^\\dagger_{km\\sigma}c^\\dagger_{-k\\bar{m}\\bar{\\sigma}} \\right) + \\notag \\\\\n",
    "    &-2N|\\Delta_{m\\bar{m}}|^2\\left( U-2J\\right) \\notag \\\\\n",
    "    &= \\sum_{k,m,\\sigma} \\begin{pmatrix} c^\\dagger_{km\\sigma} &  c_{-k\\bar{m}\\bar{\\sigma}} \\end{pmatrix} \\begin{pmatrix}\n",
    "\\frac{E_{km}}{2}& \\frac{U-2J}{2}\\Delta^\\ast_{m\\bar{m}}  \\\\\n",
    "\\frac{U-2J}{2}\\Delta_{m\\bar{m}} & -\\frac{E_{km}}{2} \\\\\n",
    "\\end{pmatrix} \\begin{pmatrix} c_{km\\sigma} \\\\c^\\dagger_{-k\\bar{m}\\bar{\\sigma}}\\end{pmatrix},\n",
    "\\end{align} \n",
    "thus the ground state energy and the self-consistency equation are given by\n",
    "\\begin{align}\n",
    "    E_{GS} &= -2 \\sum_k \\sqrt{E^2_{km}+ (U-2J)^2|\\Delta_{m\\bar{m}}|^2} -2N|\\Delta_{m\\bar{m}}|^2U \\\\\n",
    "    |\\Delta_{m\\bar{m}}| &= -\\frac{1}{2N} \\sum_k \\frac{(U-2J)|\\Delta_{m\\bar{m}}}{\\sqrt{E^2_{km}+(U-2J)^2|\\Delta_{m\\bar{m}}|^2}}\n",
    "\\end{align}\n",
    "\n",
    "#Charge-Density wave\n",
    "\n",
    "\\begin{align}\n",
    "     H = \\sum_{k,m,\\sigma} E_{k,m} c^\\dagger_{km\\sigma}c_{km\\sigma} + \\frac{3U-5J}{2}\\sum_{k,m,\\sigma} \\frac{\\Delta}{2} c^\\dagger_{k+Qm\\sigma}c_{km\\sigma} - \\frac{3U-5J}{2}N \\frac{\\Delta^2}{4}.\n",
    "\\end{align}\n",
    "\n",
    "Let us now split the Brillouin zone:\n",
    "\n",
    "\\begin{align*}\n",
    "    \\sum_{k \\in BZ} E_k c^\\dagger_k c_k = \\sum_{k \\in RBZ} E_k c^\\dagger_k c_k + \\sum_{k \\in RBZ} E_{k+Q}c^\\dagger_{k+Q}c_{k+Q}.\n",
    "\\end{align*}\n",
    "We can write\n",
    "\\begin{align}\n",
    "    H&=\\sum_{k,m,\\sigma}^{RBZ} E_{k,m}\\left( c^\\dagger_{km\\sigma}c_{km\\sigma} - c^\\dagger_{k+Qm\\sigma}c_{k+Qm\\sigma}\\right)+ \\frac{3U-5J}{2}\\sum_{k,m,\\sigma}^{RBZ}\\frac{\\Delta}{2}\\left( c^\\dagger_{k+Qm\\sigma}c_{km\\sigma}+c^\\dagger_{km\\sigma}c_{k+Qm\\sigma}\\right) +\\notag \\\\\n",
    "    &- \\frac{3U-5J}{2}N\\frac{\\Delta^2}{4} \\notag \\\\\n",
    "    &=\\sum_{k,m,\\sigma}^{RBZ} \\begin{pmatrix} c^\\dagger_{km\\sigma} &  c^\\dagger_{k+Qm\\bar\\sigma} \\end{pmatrix} \\begin{pmatrix}\n",
    "\\frac{E_{km}}{2}& \\frac{3U-5J}{2}\\frac{\\Delta}{2}  \\\\\n",
    "\\frac{3U-5J}{2}\\frac{\\Delta}{2} & -E_{km} \\\\\n",
    "\\end{pmatrix} \\begin{pmatrix} c_{km\\sigma} \\\\c_{k+Qm\\sigma}\\end{pmatrix}- \\frac{3U-5J}{2}N\\frac{\\Delta^2}{4},\n",
    "\\end{align}\n",
    "and we get\n",
    "\\begin{align}\n",
    "    E_{GS} &= - \\sum_{k,m,\\sigma}^{RBZ} \\sqrt{E^2_{km} + \\left(\\frac{3U-5J}{2}\\right)^2\\frac{\\Delta}{4}}- \\frac{3U-5J}{2}N\\frac{\\Delta^2}{4} \\notag \\\\\n",
    "    &= -2 \\sum_{k}^{BZ} \\sqrt{E^2_{km} + \\left(\\frac{3U-5J}{2}\\right)^2\\frac{\\Delta}{4}}- \\frac{3U-5J}{2}N\\frac{\\Delta^2}{4}.\n",
    "\\end{align}\n",
    "As for the self-consistency equation:\n",
    "\\begin{align}\n",
    "    \\Delta = -\\frac{1}{N}\\sum_k^{BZ} \\frac{\\frac{3U-5J}{2}\\Delta}{\\sqrt{E^2_{km}+\\left( \\frac{3U-5J}{2}\\right)^2 \\frac{\\Delta^2}{4}}}\n",
    "\\end{align}"
   ]
  },
  {
   "cell_type": "markdown",
   "metadata": {
    "id": "TXCHDIs7dNd6"
   },
   "source": [
    "# Competing phases"
   ]
  },
  {
   "cell_type": "markdown",
   "metadata": {
    "id": "7Io0Qf8ccytb"
   },
   "source": [
    "We now study our problem allowing for the development of all the order parameters.\n",
    "\\begin{align}\n",
    "    H&=\\sum_{k,m,\\sigma} E_{k,m} c^\\dagger_{km\\sigma}c_{km\\sigma} + \\notag \\\\\n",
    "    &+ \\frac{U}{2} \\sum_{k,m,\\sigma}  \\left( \\Delta_m c_{-km\\bar{\\sigma}}c_{km\\sigma} + \\Delta^\\ast_m c^\\dagger_{km\\sigma}c^\\dagger_{-km\\bar{\\sigma}} \\right)-2N|\\Delta_m|^2U + \\notag \\\\\n",
    "    &+ \\frac{U-2J}{2} \\sum_{\\substack{k,\\sigma \\\\ m }} \\left(\\Delta_{m\\bar{m}} c_{-k\\bar{m}\\bar{\\sigma}}c_{km\\sigma} + \\Delta^\\ast_{m\\bar{m}} c^\\dagger_{km\\sigma}c^\\dagger_{-k\\bar{m}\\bar{\\sigma}} \\right) -2N|\\Delta_{m\\bar{m}}|^2\\left( U-2J\\right) +\\notag \\\\\n",
    "    &+ \\frac{3U-5J}{2}\\sum_{k,m,\\sigma} \\frac{\\Delta}{2} c^\\dagger_{k+Qm\\sigma}c_{km\\sigma} - \\frac{3U-5J}{2}N \\frac{\\Delta^2}{4} \\\\\n",
    "    &= \\sum_{k,m,\\sigma} \\begin{pmatrix} c^\\dagger_{km\\sigma} & c_{-km\\bar{\\sigma}} & c_{-k\\bar{m}\\bar{\\sigma}} &  c_{k+Q m\\sigma} \\end{pmatrix} \n",
    "\\begin{pmatrix}\n",
    "E_{km} & \\frac{U}{2}\\Delta^\\ast_m & \\frac{U-2J}{2}\\Delta^\\ast_{m\\bar{m}} & \\frac{3U-5J}{2}\\frac{\\Delta^\\ast}{4}   \\\\\n",
    "\\frac{U}{2}\\Delta_m & 0 & 0 & 0 \\\\\n",
    "\\frac{U-2J}{2}\\Delta_{m\\bar{m}} & 0 & 0 & 0 \\\\\n",
    "\\frac{3U-5J}{2}\\frac{\\Delta}{4} & 0 & 0 & 0 \\\\\n",
    "\\end{pmatrix} \n",
    "\\begin{pmatrix} c_{km\\sigma} \\\\c^\\dagger_{-km\\bar{\\sigma}} \\\\ c^\\dagger_{-k\\bar{m}\\bar{\\sigma}} \\\\ c^\\dagger_{k+Q m\\sigma} \\end{pmatrix} \\\\\n",
    "&-2N|\\Delta_m|^2U - 2N|\\Delta_{m\\bar{m}}|^2\\left( U-2J\\right) - \\frac{3U-5J}{2}N \\frac{\\Delta^2}{4},\n",
    "\\end{align}\n"
   ]
  },
  {
   "cell_type": "markdown",
   "metadata": {},
   "source": [
    "So"
   ]
  },
  {
   "cell_type": "markdown",
   "metadata": {},
   "source": [
    "\\begin{align}\n",
    " E_{GS} &= \\sum_{k,m,\\sigma} -\\frac{1}{2} \\sqrt{E_{km}^2+ U^2|\\Delta_m|^2 + (U-2J)^2|\\Delta_{m\\bar{m}}|^2 + \\bigg(\\frac{3U-5J}{2}\\bigg)^2|\\Delta|^2 } -2N|\\Delta_m|^2U - 2N|\\Delta_{m\\bar{m}}|^2\\left( U-2J\\right) - \\frac{3U-5J}{2}N \\frac{\\Delta^2}{4} \\notag\\\\\n",
    "&=-2 \\sum_k \\sqrt{E_{km}^2+ U^2|\\Delta_m|^2 + (U-2J)^2|\\Delta_{m\\bar{m}}|^2 + \\bigg(\\frac{3U-5J}{2}\\bigg)^2|\\Delta|^2 } -2N|\\Delta_m|^2U - 2N|\\Delta_{m\\bar{m}}|^2\\left( U-2J\\right) - \\frac{3U-5J}{2}N \\frac{\\Delta^2}{4}\n",
    "\\end{align}"
   ]
  },
  {
   "cell_type": "markdown",
   "metadata": {},
   "source": [
    "The self-consistent equations are given by"
   ]
  },
  {
   "cell_type": "markdown",
   "metadata": {},
   "source": [
    "\\begin{equation}\n",
    "|\\Delta_m| = -\\frac{1}{2N} \\sum_k \\frac{U|\\Delta_m|}{\\sqrt{E_{km}^2+ U^2|\\Delta_m|^2 + (U-2J)^2|\\Delta_{m\\bar{m}}|^2 + \\bigg(\\frac{3U-5J}{2}\\bigg)^2|\\Delta|^2 }}.\n",
    "\\end{equation}"
   ]
  },
  {
   "cell_type": "markdown",
   "metadata": {},
   "source": [
    "\\begin{equation}\n",
    "|\\Delta_{m\\bar{m}}| = -\\frac{1}{2N} \\sum_k \\frac{(U-2J)|\\Delta_{m\\bar{m}}|}{\\sqrt{E_{km}^2+ U^2|\\Delta_m|^2 + (U-2J)^2|\\Delta_{m\\bar{m}}|^2 + \\bigg(\\frac{3U-5J}{2}\\bigg)^2|\\Delta|^2 }}.\n",
    "\\end{equation}"
   ]
  },
  {
   "cell_type": "markdown",
   "metadata": {},
   "source": [
    "\\begin{equation}\n",
    "    |\\Delta| = -\\frac{1}{N}\\sum_k \\frac{\\frac{3U-5J}{2}|\\Delta|}{\\sqrt{E_{km}^2+ U^2|\\Delta_m|^2 + (U-2J)^2|\\Delta_{m\\bar{m}}|^2 + \\bigg(\\frac{3U-5J}{2}\\bigg)^2|\\Delta|^2 }}\n",
    "\\end{equation}"
   ]
  },
  {
   "cell_type": "code",
   "execution_count": null,
   "metadata": {},
   "outputs": [],
   "source": []
  },
  {
   "cell_type": "code",
   "execution_count": null,
   "metadata": {},
   "outputs": [],
   "source": []
  }
 ],
 "metadata": {
  "colab": {
   "provenance": []
  },
  "kernelspec": {
   "display_name": "Python 3 (ipykernel)",
   "language": "python",
   "name": "python3"
  },
  "language_info": {
   "codemirror_mode": {
    "name": "ipython",
    "version": 3
   },
   "file_extension": ".py",
   "mimetype": "text/x-python",
   "name": "python",
   "nbconvert_exporter": "python",
   "pygments_lexer": "ipython3",
   "version": "3.8.15"
  }
 },
 "nbformat": 4,
 "nbformat_minor": 1
}
